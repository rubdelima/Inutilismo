{
 "cells": [
  {
   "cell_type": "code",
   "execution_count": 1,
   "id": "446af83f",
   "metadata": {},
   "outputs": [],
   "source": [
    "from src.core.config import GLOBAL_CONFIG"
   ]
  },
  {
   "cell_type": "code",
   "execution_count": 2,
   "id": "2fc699fa",
   "metadata": {},
   "outputs": [
    {
     "data": {
      "text/plain": [
       "{'youtube': {'max_video_quality': 1080,\n",
       "  'max_audio_quality': 'max',\n",
       "  'audio_codec': 'mp3',\n",
       "  'video_codec': 'mp4',\n",
       "  'download_path': './downloads',\n",
       "  'organize_by_channel': False,\n",
       "  'filename_template': '%(title)s.%(ext)s',\n",
       "  'download_subtitles': False,\n",
       "  'subtitle_languages': ['pt', 'en'],\n",
       "  'rate_limit': 0,\n",
       "  'continue_download': True,\n",
       "  'skip_existing': True,\n",
       "  'playlist': {'download_entire_playlist': True,\n",
       "   'max_videos_per_playlist': 0,\n",
       "   'download_order': 'newest',\n",
       "   'concurrent_downloads': 3,\n",
       "   'delay_between_downloads': 1}},\n",
       " 'logging': {'level': 'INFO',\n",
       "  'save_to_file': True,\n",
       "  'log_file': './logs/lvcas.log'},\n",
       " 'memory_manager': {'global_verbose': True, 'min_num_workers': 4}}"
      ]
     },
     "execution_count": 2,
     "metadata": {},
     "output_type": "execute_result"
    }
   ],
   "source": [
    "GLOBAL_CONFIG"
   ]
  },
  {
   "cell_type": "code",
   "execution_count": 3,
   "id": "95dbaa64",
   "metadata": {},
   "outputs": [
    {
     "name": "stdout",
     "output_type": "stream",
     "text": [
      "Logger 'lvcas.teste' criado com 3 handlers (arquivos: general.log + teste.log)\n"
     ]
    }
   ],
   "source": [
    "from src.core import get_logger\n",
    "\n",
    "logger = get_logger(\"teste\", console=False)"
   ]
  },
  {
   "cell_type": "code",
   "execution_count": 4,
   "id": "6b62ee6f",
   "metadata": {},
   "outputs": [
    {
     "name": "stderr",
     "output_type": "stream",
     "text": [
      "\u001b[90m2025-06-09 18:06:53,988\u001b[0m : \u001b[94mlvcas.teste\u001b[0m : \u001b[32mINFO\u001b[0m : Testando...\n"
     ]
    }
   ],
   "source": [
    "logger.info(\"Testando...\")"
   ]
  }
 ],
 "metadata": {
  "kernelspec": {
   "display_name": "lvcas",
   "language": "python",
   "name": "python3"
  },
  "language_info": {
   "codemirror_mode": {
    "name": "ipython",
    "version": 3
   },
   "file_extension": ".py",
   "mimetype": "text/x-python",
   "name": "python",
   "nbconvert_exporter": "python",
   "pygments_lexer": "ipython3",
   "version": "3.13.3"
  }
 },
 "nbformat": 4,
 "nbformat_minor": 5
}
